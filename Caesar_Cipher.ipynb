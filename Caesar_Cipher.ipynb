{
  "cells": [
    {
      "cell_type": "markdown",
      "metadata": {
        "id": "view-in-github",
        "colab_type": "text"
      },
      "source": [
        "<a href=\"https://colab.research.google.com/github/YahiaML/Caesar-Cipher/blob/main/Caesar_Cipher.ipynb\" target=\"_parent\"><img src=\"https://colab.research.google.com/assets/colab-badge.svg\" alt=\"Open In Colab\"/></a>"
      ]
    },
    {
      "cell_type": "markdown",
      "metadata": {
        "id": "KEXAOVM0iIvd"
      },
      "source": [
        "#About the program"
      ]
    },
    {
      "cell_type": "markdown",
      "metadata": {
        "id": "qBrGzQ3ekPiR"
      },
      "source": [
        "Julius Caesar protected his confidential information by encrypting it using a cipher. Caesar's cipher shifts each letter by a number of letters. If the shift takes you past the end of the alphabet, just rotate back to the front of the alphabet. In the case of a rotation by 3, w, x, y, and z would map to z, a, b and c.\n",
        "\n",
        "But as this method of ciphering can be easily broken, I've added a feature named \"add another language\" where you can:\n",
        "\n",
        "1.**Set your own letters pattern:** Like [z,d,l,k,g,t,e,q,u,o,f,s,p,a,y,h,j,u,b,...etc] to make it more difficult to be broken\n",
        "\n",
        "2.**replace letters with symbols:** Like replacing \"A\" with \"@\", \"C\" with \"(\", \"L\" with \"!\", ...etc, so when you enter a word contains the replaced letter (A, C, L, ...etc) the word will contain shifted and un-shifted letters in the same word 😉\n",
        "\n",
        "\n",
        "---\n",
        "**Notes:**\n",
        "\n",
        "This is an enhanced version of the HackerRank python practice named \"Caesar Cipher\" \n",
        "\n",
        "** you can see it through the following link:**\n",
        "\n",
        "https://www.hackerrank.com/challenges/one-week-preparation-kit-caesar-cipher-1/problem?isFullScreen=true&h_l=interview&playlist_slugs%5B%5D=preparation-kits&playlist_slugs%5B%5D=one-week-preparation-kit&playlist_slugs%5B%5D=one-week-day-three\n",
        "\n",
        "More about Caesar Cipher :https://en.wikipedia.org/wiki/Caesar_cipher \n",
        "\n",
        "***If you found any error in your language please leave me a comment***"
      ]
    },
    {
      "cell_type": "markdown",
      "metadata": {
        "id": "w1hAoYORPew6"
      },
      "source": [
        "#The code: \n",
        "\n",
        "click on (2 cells hidden) to view"
      ]
    },
    {
      "cell_type": "code",
      "execution_count": null,
      "metadata": {
        "id": "Kog_eUFMHb4m"
      },
      "outputs": [],
      "source": [
        "import time\n",
        "import sys "
      ]
    },
    {
      "cell_type": "code",
      "execution_count": null,
      "metadata": {
        "id": "aG5bhfBWF7Ii"
      },
      "outputs": [],
      "source": [
        "def Caesar_Cipher():\n",
        "    # Dictionary for languages\n",
        "    languages = {\n",
        "        \"arabic\":[\"أ\", \"ب\", \"ت\", \"ث\", \"ج\", \"ح\", \"خ\", \"د\", \"ذ\", \"ر\", \"ز\", \"س\", \"ش\", \"ص\", \"ض\", \"ط\", \"ظ\", \"ع\", \"غ\", \"ف\", \"ق\", \"ك\", \"ل\", \"م\", \"ن\", \"ه\",\"و\",\"ي\"],\n",
        "        \"english\":[\"a\", \"b\", \"c\", \"d\", \"e\", \"f\", \"g\", \"h\", \"i\", \"j\", \"k\", \"l\", \"m\", \"n\", \"o\", \"p\", \"q\", \"r\", \"s\", \"t\", \"u\", \"v\", \"w\", \"x\", \"y\", \"z\"],\n",
        "        \"french\":[\"a\", \"b\", \"c\", \"d\", \"e\", \"f\", \"g\", \"h\", \"i\", \"j\", \"k\", \"l\", \"m\", \"n\", \"o\", \"p\", \"q\", \"r\", \"s\", \"t\", \"u\", \"v\", \"w\", \"x\", \"y\", \"z\"],\n",
        "        \"german\":[\"a\", \"b\", \"c\", \"d\", \"e\", \"f\", \"g\", \"h\", \"i\", \"j\", \"k\", \"l\", \"m\", \"n\", \"o\", \"p\", \"q\", \"r\", \"s\", \"t\", \"u\", \"v\", \"w\", \"x\", \"y\", \"z\",\"ä\", \"ö\", \"ü\", \"ß\"],\n",
        "        \"italian\":[\"a\", \"b\", \"c\", \"d\", \"e\", \"f\", \"g\", \"h\", \"i\", \"l\", \"m\", \"n\", \"o\", \"p\", \"q\", \"r\", \"s\", \"t\", \"u\", \"v\", \"z\"],\n",
        "        \"portuguese\":[\"a\", \"b\", \"c\", \"d\", \"e\", \"f\", \"g\", \"h\", \"i\", \"j\", \"l\", \"m\", \"n\", \"o\", \"p\", \"q\", \"r\", \"s\", \"t\", \"u\", \"v\", \"x\", \"z\"],\n",
        "        \"russian\":[\"a\", \"б\", \"в\", \"г\", \"д\", \"е\", \"ё\", \"ж\", \"з\", \"и\", \"й\", \"к\", \"л\", \"n\", \"м\", \"н\", \"о\", \"п\", \"р\", \"с\", \"т\", \"у\", \"ф\", \"х\", \"ц\", \"ч\",\"ч\", \"ш\", \"щ\", \"ъ\", \"ы\", \"ь\", \"э\", \"ю\", \"я\"],             \n",
        "        \"spanish\":[\"a\", \"b\", \"c\", \"d\", \"e\", \"f\", \"g\", \"h\", \"i\", \"j\", \"k\", \"l\", \"m\", \"n\", \"ñ,\" \"o\", \"p\", \"q\", \"r\", \"s\", \"t\", \"u\", \"v\", \"w\", \"x\", \"y\", \"z\"],\n",
        "        \"turkish \":[\"a\", \"b\", \"c\", \"ç\", \"d\", \"e\", \"f\", \"g\", \"ğ\", \"h\", \"ı\", \"i\", \"j\", \"k\", \"l\", \"m\", \"n\", \"o\", \"ö\" \"p\", \"r\", \"s\", \"ş\", \"t\", \"u\", \"ü\", \"v\", \"y\", \"z\"]}\n",
        "  \n",
        "    # Starting the program ------------------------ Starting the program ------------------------ Starting the program ------------------------\n",
        "    print(\"Welcome to the Caesar_Cipher program.\")\n",
        "    time. sleep(1)\n",
        "    print(\"You can choose one of the following languages or you can insert your own language if you want.\")\n",
        "    time. sleep(3)\n",
        "\n",
        "  \n",
        "    #  get_choice ------------------------ get_choice ------------------------ get_choice ------------------------\n",
        "    def get_choice():        \n",
        "        choosing = True\n",
        "        while choosing == True :\n",
        "            print(\"which language are you going to use: Arabic, English, French, German, Italian, Portuguese, Russian, Spanish, Turkish or add another language?\")\n",
        "            choice = input().lower()\n",
        "            if choice in languages.keys():\n",
        "                sentence = input(\"Insert the sentence you want to cipher\\n\")\n",
        "                print(\"Insert the number you want to shift the letters by\")\n",
        "                shift_by_loop = True\n",
        "                while shift_by_loop == True :\n",
        "                    shift_by = input()\n",
        "                    try: \n",
        "                        type(int(shift_by)) == int                                          \n",
        "                        litters = languages[choice]\n",
        "                        return sentence, litters, int(shift_by)\n",
        "                        shift_by_loop = False\n",
        "                    except:\n",
        "                      print(\"please insert an integer\")\n",
        "\n",
        "            elif choice ==\"add another language\":                              \n",
        "                print(\"Please insert your language letters As the folloing form (a,b,c,d,...,Z) then press enter\")                \n",
        "                letters_list = input().split(\",\")                       \n",
        "                sentence = input(\"Insert the sentence you want to cipher\\n\")\n",
        "                litters = letters_list\n",
        "                print(\"Insert the number you want to shift the letters by\")\n",
        "                shift_by_loop_2 = True\n",
        "                while shift_by_loop_2 == True :\n",
        "                    shift_by = input()\n",
        "                    try: \n",
        "                        type(int(shift_by)) == int                                     \n",
        "                        return sentence, litters, int(shift_by)\n",
        "                        shift_by_loop_2 = False\n",
        "                    except:\n",
        "                      print(\"please insert an integer\") \n",
        "                                \n",
        "              \n",
        "            elif choice not in languages.keys() and choice !=\"add another language\" :\n",
        "              print(\"please check your spelling, choose a valid language or insert \\\"add another language\\\"\")\n",
        "              check_re_choose = True\n",
        "              while check_re_choose == True :\n",
        "                  \n",
        "                  print(\"Do you want to re-choose? #insert yes or no\")\n",
        "                  re_choose = input().lower()\n",
        "                  if re_choose == \"yes\" :\n",
        "                      check_re_choose = False\n",
        "                      choosing = True\n",
        "                  elif re_choose == \"no\" :\n",
        "                      check_re_choose == False\n",
        "                      choosing = False                      \n",
        "                      #sys.exit(\"Thanks for using my program\")\n",
        "                      print(\"Thanks for trying my program\")\n",
        "                      sentence = \"\"\n",
        "                      shift_by = \"\"\n",
        "                      litters = \"\"\n",
        "\n",
        "                      return sentence, litters, shift_by                       \n",
        "  \n",
        "                                          \n",
        "                  elif re_choose not in [\"yes\",\"no\"] :                      \n",
        "                      print(\"\\n\",\"*\"*40,\"\\n please insert a valid choice\",\"\\n\",\"*\"*40)\n",
        "  \n",
        "    \n",
        "    #  Ciphering ------------------------ Ciphering ------------------------ Ciphering ------------------------\n",
        "\n",
        "    sentence,litters,shift_by =get_choice()\n",
        "    ciphered_sentence = []\n",
        "\n",
        "    for litter in list(sentence) :\n",
        "      if litter in litters :\n",
        "        litter_index = litters.index(litter)\n",
        "\n",
        "        if litter_index + shift_by <= len(litters)-1 :\n",
        "          new_litter = litters[litter_index + shift_by]\n",
        "\n",
        "          ciphered_sentence.append(new_litter)\n",
        "\n",
        "        elif litter_index + shift_by >= len(litters)-1 :\n",
        "          new_litter_index = litter_index + shift_by - (len(litters)* ((litter_index + shift_by)//len(litters)))\n",
        "          new_litter = litters[new_litter_index]\n",
        "\n",
        "          ciphered_sentence.append(new_litter)\n",
        "\n",
        "      elif litter.lower() in litters :\n",
        "        litter_index = litters.index(litter.lower())\n",
        "        if litter_index + shift_by <= len(litters)-1 :\n",
        "          new_litter = litters[litter_index + shift_by]\n",
        "          ciphered_sentence.append(new_litter.upper())\n",
        "\n",
        "        elif litter_index + shift_by >= len(litters)-1 :\n",
        "          new_litter_index = litter_index + shift_by - (len(litters)* ((litter_index + shift_by)//len(litters)))\n",
        "          new_litter = litters[new_litter_index]\n",
        "          ciphered_sentence.append(new_litter.upper())\n",
        "\n",
        "      elif litter not in litters :\n",
        "        ciphered_sentence.append(litter)\n",
        "\n",
        "    \n",
        "    print(\"*\"*40)\n",
        "    print(\"Done, here's your sentence ciphered\")\n",
        "    for i in ciphered_sentence :\n",
        "      print(i, end=\"\")\n",
        "    print(\"\\n\",end=\"*\"*40)          "
      ]
    },
    {
      "cell_type": "markdown",
      "metadata": {
        "id": "Ey6fveXEiLtL"
      },
      "source": [
        "#Run the program\n",
        "**To run the program please press ctrl + F9**\n",
        "\n",
        "Note: you may wait about 7 seconds until the program starts if it's the first time you run it"
      ]
    },
    {
      "cell_type": "code",
      "execution_count": null,
      "metadata": {
        "id": "5dJ29-PcGMsr"
      },
      "outputs": [],
      "source": [
        "# To run the program please press ctrl + F9\n",
        "Caesar_Cipher()"
      ]
    }
  ],
  "metadata": {
    "colab": {
      "collapsed_sections": [],
      "name": "Caesar_Cipher.ipynb",
      "provenance": [],
      "authorship_tag": "ABX9TyMK1T0Y7vwoZUD7ixYU4SHH",
      "include_colab_link": true
    },
    "kernelspec": {
      "display_name": "Python 3",
      "name": "python3"
    },
    "language_info": {
      "name": "python"
    }
  },
  "nbformat": 4,
  "nbformat_minor": 0
}