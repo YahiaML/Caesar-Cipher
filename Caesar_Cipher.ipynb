{
  "nbformat": 4,
  "nbformat_minor": 0,
  "metadata": {
    "colab": {
      "provenance": [],
      "authorship_tag": "ABX9TyMtuWs9nr7dt6FIo7OcVel4",
      "include_colab_link": true
    },
    "kernelspec": {
      "name": "python3",
      "display_name": "Python 3"
    },
    "language_info": {
      "name": "python"
    }
  },
  "cells": [
    {
      "cell_type": "markdown",
      "metadata": {
        "id": "view-in-github",
        "colab_type": "text"
      },
      "source": [
        "<a href=\"https://colab.research.google.com/github/YahiaML/Caesar-Cipher/blob/main/Caesar_Cipher.ipynb\" target=\"_parent\"><img src=\"https://colab.research.google.com/assets/colab-badge.svg\" alt=\"Open In Colab\"/></a>"
      ]
    },
    {
      "cell_type": "markdown",
      "source": [
        "#Main Code\n"
      ],
      "metadata": {
        "id": "ZPVJcss12kb9"
      }
    },
    {
      "cell_type": "code",
      "execution_count": null,
      "metadata": {
        "id": "aG5bhfBWF7Ii"
      },
      "outputs": [],
      "source": [
        "def Caesar_Cipher():\n",
        "    # Dictionary for languages\n",
        "    languages = {\n",
        "        \"arabic\":[\"أ\", \"ب\", \"ت\", \"ث\", \"ج\", \"ح\", \"خ\", \"د\", \"ذ\", \"ر\", \"ز\", \"س\", \"ش\", \"ص\", \"ض\", \"ط\", \"ظ\", \"ع\", \"غ\", \"ف\", \"ق\", \"ك\", \"ل\", \"م\", \"ن\", \"ه\",\"و\",\"ي\"],\n",
        "        \"english\":[\"a\", \"b\", \"c\", \"d\", \"e\", \"f\", \"g\", \"h\", \"i\", \"j\", \"k\", \"l\", \"m\", \"n\", \"o\", \"p\", \"q\", \"r\", \"s\", \"t\", \"u\", \"v\", \"w\", \"x\", \"y\", \"z\"],\n",
        "        \"french\":[\"a\", \"b\", \"c\", \"d\", \"e\", \"f\", \"g\", \"h\", \"i\", \"j\", \"k\", \"l\", \"m\", \"n\", \"o\", \"p\", \"q\", \"r\", \"s\", \"t\", \"u\", \"v\", \"w\", \"x\", \"y\", \"z\"],\n",
        "        \"german\":[\"a\", \"b\", \"c\", \"d\", \"e\", \"f\", \"g\", \"h\", \"i\", \"j\", \"k\", \"l\", \"m\", \"n\", \"o\", \"p\", \"q\", \"r\", \"s\", \"t\", \"u\", \"v\", \"w\", \"x\", \"y\", \"z\",\"ä\", \"ö\", \"ü\", \"ß\"],\n",
        "        \"italian\":[\"a\", \"b\", \"c\", \"d\", \"e\", \"f\", \"g\", \"h\", \"i\", \"l\", \"m\", \"n\", \"o\", \"p\", \"q\", \"r\", \"s\", \"t\", \"u\", \"v\", \"z\"],\n",
        "        \"portuguese\":[\"a\", \"b\", \"c\", \"d\", \"e\", \"f\", \"g\", \"h\", \"i\", \"j\", \"l\", \"m\", \"n\", \"o\", \"p\", \"q\", \"r\", \"s\", \"t\", \"u\", \"v\", \"x\", \"z\"],\n",
        "        \"russian\":[\"a\", \"б\", \"в\", \"г\", \"д\", \"е\", \"ё\", \"ж\", \"з\", \"и\", \"й\", \"к\", \"л\", \"n\", \"м\", \"н\", \"о\", \"п\", \"р\", \"с\", \"т\", \"у\", \"ф\", \"х\", \"ц\", \"ч\",\"ч\", \"ш\", \"щ\", \"ъ\", \"ы\", \"ь\", \"э\", \"ю\", \"я\"],             \n",
        "        \"spanish\":[\"a\", \"b\", \"c\", \"d\", \"e\", \"f\", \"g\", \"h\", \"i\", \"j\", \"k\", \"l\", \"m\", \"n\", \"ñ,\" \"o\", \"p\", \"q\", \"r\", \"s\", \"t\", \"u\", \"v\", \"w\", \"x\", \"y\", \"z\"],\n",
        "        \"turkish \":[\"a\", \"b\", \"c\", \"ç\", \"d\", \"e\", \"f\", \"g\", \"ğ\", \"h\", \"ı\", \"i\", \"j\", \"k\", \"l\", \"m\", \"n\", \"o\", \"ö\" \"p\", \"r\", \"s\", \"ş\", \"t\", \"u\", \"ü\", \"v\", \"y\", \"z\"]}\n",
        "  \n",
        "    # Starting the program ------------------------ Starting the program ------------------------ Starting the program ------------------------\n",
        "    print(\"Welcome to the Caesar_Cipher program.\")\n",
        "    time. sleep(1)\n",
        "    print(\"You can choose one of the following languages or you can insert your own language if you want.\")\n",
        "    time. sleep(3)\n",
        "\n",
        "  \n",
        "    #  get_choice ------------------------ get_choice ------------------------ get_choice ------------------------\n",
        "    def get_choice():        \n",
        "        choosing = True\n",
        "        while choosing == True :\n",
        "            print(\"which language are you going to use: Arabic, English, French, German, Italian, Portuguese, Russian, Spanish, Turkish or add another language?\")\n",
        "            choice = input().lower()\n",
        "            if choice in languages.keys():\n",
        "                sentence = input(\"Insert the sentence you want to cipher\\n\")\n",
        "                print(\"Insert the number you want to shift the letters by\")\n",
        "                shift_by_loop = True\n",
        "                while shift_by_loop == True :\n",
        "                    shift_by = input()\n",
        "                    try: \n",
        "                        type(int(shift_by)) == int                                          \n",
        "                        litters = languages[choice]\n",
        "                        return sentence, litters, int(shift_by)\n",
        "                        shift_by_loop = False\n",
        "                    except:\n",
        "                      print(\"please insert an integer\")\n",
        "\n",
        "            elif choice ==\"add another language\":                              \n",
        "                print(\"Please insert your language letters As the folloing form (a,b,c,d,...,Z) then press enter\")                \n",
        "                letters_list = input().split(\",\")                       \n",
        "                sentence = input(\"Insert the sentence you want to cipher\\n\")\n",
        "                litters = letters_list\n",
        "                print(\"Insert the number you want to shift the letters by\")\n",
        "                shift_by_loop_2 = True\n",
        "                while shift_by_loop_2 == True :\n",
        "                    shift_by = input()\n",
        "                    try: \n",
        "                        type(int(shift_by)) == int                                     \n",
        "                        return sentence, litters, int(shift_by)\n",
        "                        shift_by_loop_2 = False\n",
        "                    except:\n",
        "                      print(\"please insert an integer\") \n",
        "                                \n",
        "              \n",
        "            elif choice not in languages.keys() and choice !=\"add another language\" :\n",
        "              print(\"please check your spelling, choose a valid language or insert \\\"add another language\\\"\")\n",
        "              check_re_choose = True\n",
        "              while check_re_choose == True :\n",
        "                  \n",
        "                  print(\"Do you want to re-choose? #insert yes or no\")\n",
        "                  re_choose = input().lower()\n",
        "                  if re_choose == \"yes\" :\n",
        "                      check_re_choose = False\n",
        "                      choosing = True\n",
        "                  elif re_choose == \"no\" :\n",
        "                      check_re_choose == False\n",
        "                      choosing = False                      \n",
        "                      #sys.exit(\"Thanks for using my program\")\n",
        "                      print(\"Thanks for trying my program\")\n",
        "                      sentence = \"\"\n",
        "                      shift_by = \"\"\n",
        "                      litters = \"\"\n",
        "\n",
        "                      return sentence, litters, shift_by                       \n",
        "  \n",
        "                                          \n",
        "                  elif re_choose not in [\"yes\",\"no\"] :                      \n",
        "                      print(\"\\n\",\"*\"*40,\"\\n please insert a valid choice\",\"\\n\",\"*\"*40)\n",
        "  \n",
        "    \n",
        "    #  Ciphering ------------------------ Ciphering ------------------------ Ciphering ------------------------\n",
        "\n",
        "    sentence,litters,shift_by =get_choice()\n",
        "    ciphered_sentence = []\n",
        "\n",
        "    for litter in list(sentence) :\n",
        "      if litter in litters :\n",
        "        litter_index = litters.index(litter)\n",
        "\n",
        "        if litter_index + shift_by <= len(litters)-1 :\n",
        "          new_litter = litters[litter_index + shift_by]\n",
        "\n",
        "          ciphered_sentence.append(new_litter)\n",
        "\n",
        "        elif litter_index + shift_by >= len(litters)-1 :\n",
        "          new_litter_index = litter_index + shift_by - (len(litters)* ((litter_index + shift_by)//len(litters)))\n",
        "          new_litter = litters[new_litter_index]\n",
        "\n",
        "          ciphered_sentence.append(new_litter)\n",
        "\n",
        "      elif litter.lower() in litters :\n",
        "        litter_index = litters.index(litter.lower())\n",
        "        if litter_index + shift_by <= len(litters)-1 :\n",
        "          new_litter = litters[litter_index + shift_by]\n",
        "          ciphered_sentence.append(new_litter.upper())\n",
        "\n",
        "        elif litter_index + shift_by >= len(litters)-1 :\n",
        "          new_litter_index = litter_index + shift_by - (len(litters)* ((litter_index + shift_by)//len(litters)))\n",
        "          new_litter = litters[new_litter_index]\n",
        "          ciphered_sentence.append(new_litter.upper())\n",
        "\n",
        "      elif litter not in litters :\n",
        "        ciphered_sentence.append(litter)\n",
        "\n",
        "    \n",
        "    print(\"*\"*40)\n",
        "    print(\"Done, here's your sentence ciphered\")\n",
        "    for i in ciphered_sentence :\n",
        "      print(i, end=\"\")\n",
        "    print(\"\\n\",end=\"*\"*40)          "
      ]
    },
    {
      "cell_type": "markdown",
      "metadata": {
        "id": "Ey6fveXEiLtL"
      },
      "source": [
        "#Run the program\n",
        "**To run the program please press ctrl + F9**\n",
        "\n",
        "Note: you may wait about 7 seconds until the program starts if it's the first time you run it"
      ]
    },
    {
      "cell_type": "code",
      "execution_count": null,
      "metadata": {
        "id": "5dJ29-PcGMsr"
      },
      "outputs": [],
      "source": [
        "# To run the program please press ctrl + F9\n",
        "Caesar_Cipher()\n",
        "#You can use @,b,(,),[,f,&,h,!,j,k,|,m,n,0,p,q,r,$,+,u,^,w,*,y,z as your new letters"
      ]
    }
  ]
}